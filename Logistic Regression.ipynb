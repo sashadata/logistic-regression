{
 "cells": [
  {
   "cell_type": "markdown",
   "metadata": {
    "id": "a1af8f38"
   },
   "source": [
    "\n",
    "## Objective : \n",
    "\n",
    "* To identify the different factors that impact the failure to achieve the outcome\n",
    "* To make a model to predict if your client will acheive the outcome or not\n",
    "\n",
    "\n",
    "## Dataset :\n",
    "\n",
    "The dataset has the following variables:\n",
    "\n",
    "- Age - age of client\n",
    "- Income - annual income of client\n",
    "- Houshold size - number of people living in the household\n",
    "- Number of services - total number of services of client per program year\n",
    "- Duration - number of days(calculated the date when the case was opened and the day when outcome was achieved)\n",
    "- Goals - number of goals set to acheive\n",
    "- Failed - Yes/No (1;0) if client failed to acheive any outcomes.\n"
   ]
  },
  {
   "cell_type": "markdown",
   "metadata": {
    "id": "d6700f10"
   },
   "source": [
    "### Import the necessary libraries"
   ]
  },
  {
   "cell_type": "code",
   "execution_count": 138,
   "metadata": {
    "id": "d60f33c8"
   },
   "outputs": [],
   "source": [
    "import pandas as pd\n",
    "import numpy as np\n",
    "import matplotlib.pyplot as plt\n",
    "import seaborn as sns\n",
    "\n",
    "#to scale the data using z-score \n",
    "from sklearn.preprocessing import StandardScaler\n",
    "\n",
    "from sklearn.model_selection import train_test_split\n",
    "\n",
    "#algorithms to use\n",
    "from sklearn.linear_model import LogisticRegression\n",
    "\n",
    "#to build SVM model\n",
    "from sklearn.svm import SVC\n",
    "\n",
    "#Metrics to evaluate the model\n",
    "from sklearn import metrics\n",
    "from sklearn.metrics import confusion_matrix, classification_report, precision_recall_curve,recall_score\n",
    "\n",
    "#to build tree based models\n",
    "from sklearn import tree\n",
    "from sklearn.tree import DecisionTreeClassifier\n",
    "from sklearn.ensemble import BaggingClassifier\n",
    "from sklearn.ensemble import RandomForestClassifier\n",
    "\n",
    "\n",
    "#for tuning the model\n",
    "from sklearn.model_selection import GridSearchCV\n",
    "\n",
    "#to ignore warnings\n",
    "import warnings\n",
    "warnings.filterwarnings(\"ignore\")"
   ]
  },
  {
   "cell_type": "markdown",
   "metadata": {
    "id": "91a960cf"
   },
   "source": [
    "### Read the dataset"
   ]
  },
  {
   "cell_type": "code",
   "execution_count": 139,
   "metadata": {
    "id": "ff29bb95"
   },
   "outputs": [],
   "source": [
    "#reading the dataset\n",
    "df = pd.read_csv(\"C:/Users/aleks/OneDrive/Desktop/Great/LogitProgram.csv\")"
   ]
  },
  {
   "cell_type": "code",
   "execution_count": 140,
   "metadata": {
    "id": "6cc2e7f0",
    "outputId": "6d9d4fe1-754b-461c-a7b7-ae862ad32bcf"
   },
   "outputs": [
    {
     "data": {
      "text/html": [
       "<div>\n",
       "<style scoped>\n",
       "    .dataframe tbody tr th:only-of-type {\n",
       "        vertical-align: middle;\n",
       "    }\n",
       "\n",
       "    .dataframe tbody tr th {\n",
       "        vertical-align: top;\n",
       "    }\n",
       "\n",
       "    .dataframe thead th {\n",
       "        text-align: right;\n",
       "    }\n",
       "</style>\n",
       "<table border=\"1\" class=\"dataframe\">\n",
       "  <thead>\n",
       "    <tr style=\"text-align: right;\">\n",
       "      <th></th>\n",
       "      <th>Failed</th>\n",
       "      <th>Age</th>\n",
       "      <th>Household</th>\n",
       "      <th>Cases</th>\n",
       "      <th>Income</th>\n",
       "      <th>Service</th>\n",
       "      <th>Duration</th>\n",
       "      <th>Outcome</th>\n",
       "    </tr>\n",
       "  </thead>\n",
       "  <tbody>\n",
       "    <tr>\n",
       "      <th>0</th>\n",
       "      <td>No</td>\n",
       "      <td>41</td>\n",
       "      <td>4</td>\n",
       "      <td>1</td>\n",
       "      <td>21580</td>\n",
       "      <td>4</td>\n",
       "      <td>64</td>\n",
       "      <td>net worth</td>\n",
       "    </tr>\n",
       "    <tr>\n",
       "      <th>1</th>\n",
       "      <td>Yes</td>\n",
       "      <td>52</td>\n",
       "      <td>1</td>\n",
       "      <td>2</td>\n",
       "      <td>4009</td>\n",
       "      <td>11</td>\n",
       "      <td>238</td>\n",
       "      <td>avoided eviction</td>\n",
       "    </tr>\n",
       "    <tr>\n",
       "      <th>2</th>\n",
       "      <td>No</td>\n",
       "      <td>34</td>\n",
       "      <td>1</td>\n",
       "      <td>2</td>\n",
       "      <td>22454</td>\n",
       "      <td>1</td>\n",
       "      <td>24</td>\n",
       "      <td>affordable housing</td>\n",
       "    </tr>\n",
       "    <tr>\n",
       "      <th>3</th>\n",
       "      <td>No</td>\n",
       "      <td>34</td>\n",
       "      <td>1</td>\n",
       "      <td>2</td>\n",
       "      <td>22454</td>\n",
       "      <td>7</td>\n",
       "      <td>8</td>\n",
       "      <td>affordable housing</td>\n",
       "    </tr>\n",
       "    <tr>\n",
       "      <th>4</th>\n",
       "      <td>No</td>\n",
       "      <td>34</td>\n",
       "      <td>1</td>\n",
       "      <td>2</td>\n",
       "      <td>32552</td>\n",
       "      <td>27</td>\n",
       "      <td>131</td>\n",
       "      <td>affordable housing</td>\n",
       "    </tr>\n",
       "  </tbody>\n",
       "</table>\n",
       "</div>"
      ],
      "text/plain": [
       "  Failed  Age  Household  Cases  Income  Service  Duration             Outcome\n",
       "0     No   41          4      1   21580        4        64           net worth\n",
       "1    Yes   52          1      2    4009       11       238    avoided eviction\n",
       "2     No   34          1      2   22454        1        24  affordable housing\n",
       "3     No   34          1      2   22454        7         8  affordable housing\n",
       "4     No   34          1      2   32552       27       131  affordable housing"
      ]
     },
     "execution_count": 140,
     "metadata": {},
     "output_type": "execute_result"
    }
   ],
   "source": [
    "df.head(5)"
   ]
  },
  {
   "cell_type": "markdown",
   "metadata": {
    "id": "f367a777"
   },
   "source": [
    "### Printing the information"
   ]
  },
  {
   "cell_type": "code",
   "execution_count": 141,
   "metadata": {
    "id": "e366b601",
    "outputId": "7aeb37b3-a85d-49a0-ad18-3306a7fd84cb"
   },
   "outputs": [
    {
     "name": "stdout",
     "output_type": "stream",
     "text": [
      "<class 'pandas.core.frame.DataFrame'>\n",
      "RangeIndex: 603 entries, 0 to 602\n",
      "Data columns (total 8 columns):\n",
      " #   Column     Non-Null Count  Dtype \n",
      "---  ------     --------------  ----- \n",
      " 0   Failed     603 non-null    object\n",
      " 1   Age        603 non-null    int64 \n",
      " 2   Household  603 non-null    int64 \n",
      " 3   Cases      603 non-null    int64 \n",
      " 4   Income     603 non-null    int64 \n",
      " 5   Service    603 non-null    int64 \n",
      " 6   Duration   603 non-null    int64 \n",
      " 7   Outcome    603 non-null    object\n",
      "dtypes: int64(6), object(2)\n",
      "memory usage: 33.0+ KB\n"
     ]
    }
   ],
   "source": [
    "df.info()"
   ]
  },
  {
   "cell_type": "markdown",
   "metadata": {
    "id": "f1f5de53"
   },
   "source": [
    "**Observations:**\n",
    "- There are 603 observations and 8 columns.\n",
    "- There are no missing values in the data."
   ]
  },
  {
   "cell_type": "markdown",
   "metadata": {
    "id": "09b353cb"
   },
   "source": [
    "**Let's check the unique values in each column** "
   ]
  },
  {
   "cell_type": "code",
   "execution_count": 142,
   "metadata": {
    "id": "9b8f1776",
    "outputId": "568e3320-e9ca-4c72-e267-b6773f1461c1"
   },
   "outputs": [
    {
     "data": {
      "text/plain": [
       "Failed         2\n",
       "Age           59\n",
       "Household      7\n",
       "Cases          5\n",
       "Income       289\n",
       "Service       35\n",
       "Duration     217\n",
       "Outcome        5\n",
       "dtype: int64"
      ]
     },
     "execution_count": 142,
     "metadata": {},
     "output_type": "execute_result"
    }
   ],
   "source": [
    "#checking unique values in each column\n",
    "df.nunique()"
   ]
  },
  {
   "cell_type": "code",
   "execution_count": 143,
   "metadata": {
    "id": "188e22ec"
   },
   "outputs": [],
   "source": [
    "#Creating numerical columns\n",
    "num_cols=['Age','Household','Cases','Income','Service','Duration']\n",
    "\n",
    "#Creating categorical variables \n",
    "cat_cols= ['Failed','Outcome']"
   ]
  },
  {
   "cell_type": "markdown",
   "metadata": {
    "id": "7c1a436f"
   },
   "source": [
    "### Analysis of numerical columns"
   ]
  },
  {
   "cell_type": "code",
   "execution_count": 144,
   "metadata": {
    "id": "fb41a488",
    "outputId": "32820b4b-fad7-48d1-a0d7-b045a8cf3bbc",
    "scrolled": false
   },
   "outputs": [
    {
     "data": {
      "text/html": [
       "<div>\n",
       "<style scoped>\n",
       "    .dataframe tbody tr th:only-of-type {\n",
       "        vertical-align: middle;\n",
       "    }\n",
       "\n",
       "    .dataframe tbody tr th {\n",
       "        vertical-align: top;\n",
       "    }\n",
       "\n",
       "    .dataframe thead th {\n",
       "        text-align: right;\n",
       "    }\n",
       "</style>\n",
       "<table border=\"1\" class=\"dataframe\">\n",
       "  <thead>\n",
       "    <tr style=\"text-align: right;\">\n",
       "      <th></th>\n",
       "      <th>count</th>\n",
       "      <th>mean</th>\n",
       "      <th>std</th>\n",
       "      <th>min</th>\n",
       "      <th>25%</th>\n",
       "      <th>50%</th>\n",
       "      <th>75%</th>\n",
       "      <th>max</th>\n",
       "    </tr>\n",
       "  </thead>\n",
       "  <tbody>\n",
       "    <tr>\n",
       "      <th>Age</th>\n",
       "      <td>603.0</td>\n",
       "      <td>42.825871</td>\n",
       "      <td>12.571438</td>\n",
       "      <td>19.0</td>\n",
       "      <td>33.5</td>\n",
       "      <td>40.0</td>\n",
       "      <td>51.0</td>\n",
       "      <td>86.0</td>\n",
       "    </tr>\n",
       "    <tr>\n",
       "      <th>Household</th>\n",
       "      <td>603.0</td>\n",
       "      <td>1.827529</td>\n",
       "      <td>1.348103</td>\n",
       "      <td>1.0</td>\n",
       "      <td>1.0</td>\n",
       "      <td>1.0</td>\n",
       "      <td>2.0</td>\n",
       "      <td>7.0</td>\n",
       "    </tr>\n",
       "    <tr>\n",
       "      <th>Cases</th>\n",
       "      <td>603.0</td>\n",
       "      <td>1.499171</td>\n",
       "      <td>0.841954</td>\n",
       "      <td>1.0</td>\n",
       "      <td>1.0</td>\n",
       "      <td>1.0</td>\n",
       "      <td>2.0</td>\n",
       "      <td>6.0</td>\n",
       "    </tr>\n",
       "    <tr>\n",
       "      <th>Income</th>\n",
       "      <td>603.0</td>\n",
       "      <td>18120.140962</td>\n",
       "      <td>14748.433955</td>\n",
       "      <td>0.0</td>\n",
       "      <td>7482.0</td>\n",
       "      <td>15600.0</td>\n",
       "      <td>26663.0</td>\n",
       "      <td>68850.0</td>\n",
       "    </tr>\n",
       "    <tr>\n",
       "      <th>Service</th>\n",
       "      <td>603.0</td>\n",
       "      <td>5.369818</td>\n",
       "      <td>7.129851</td>\n",
       "      <td>1.0</td>\n",
       "      <td>1.0</td>\n",
       "      <td>3.0</td>\n",
       "      <td>6.0</td>\n",
       "      <td>56.0</td>\n",
       "    </tr>\n",
       "    <tr>\n",
       "      <th>Duration</th>\n",
       "      <td>603.0</td>\n",
       "      <td>85.497512</td>\n",
       "      <td>90.648813</td>\n",
       "      <td>1.0</td>\n",
       "      <td>16.0</td>\n",
       "      <td>51.0</td>\n",
       "      <td>134.0</td>\n",
       "      <td>346.0</td>\n",
       "    </tr>\n",
       "  </tbody>\n",
       "</table>\n",
       "</div>"
      ],
      "text/plain": [
       "           count          mean           std   min     25%      50%      75%  \\\n",
       "Age        603.0     42.825871     12.571438  19.0    33.5     40.0     51.0   \n",
       "Household  603.0      1.827529      1.348103   1.0     1.0      1.0      2.0   \n",
       "Cases      603.0      1.499171      0.841954   1.0     1.0      1.0      2.0   \n",
       "Income     603.0  18120.140962  14748.433955   0.0  7482.0  15600.0  26663.0   \n",
       "Service    603.0      5.369818      7.129851   1.0     1.0      3.0      6.0   \n",
       "Duration   603.0     85.497512     90.648813   1.0    16.0     51.0    134.0   \n",
       "\n",
       "               max  \n",
       "Age           86.0  \n",
       "Household      7.0  \n",
       "Cases          6.0  \n",
       "Income     68850.0  \n",
       "Service       56.0  \n",
       "Duration     346.0  "
      ]
     },
     "execution_count": 144,
     "metadata": {},
     "output_type": "execute_result"
    }
   ],
   "source": [
    "#summary statistics\n",
    "df[num_cols].describe().T"
   ]
  },
  {
   "cell_type": "markdown",
   "metadata": {
    "id": "3fa3d39e"
   },
   "source": [
    "**Observations:**\n",
    "- Average client age is around 42 years with SD 12.  The age range is from 18 years to 60, indicating good age diversity in the program enrollment.\n",
    "- the most common size of household is two persons. The max number of people in the household is 7.\n",
    "- The majority of clients work one case.\n",
    "- There are clients with no income on the day of enrollment. The average income is $18120.\n",
    "- The average of services received is 6. The min is 1 whereas max is 56. The 50 of clients received from 1 to 6 services.\n",
    "- Number of days in program spent is 85. The SD is 90 days. The majority of clients spent from 16 to 134 days in program.\n"
   ]
  },
  {
   "cell_type": "markdown",
   "metadata": {
    "id": "3283a6be"
   },
   "source": [
    "Let's explore these variables in some more depth by observing their distributions"
   ]
  },
  {
   "cell_type": "code",
   "execution_count": 145,
   "metadata": {
    "id": "6b1e0479",
    "outputId": "ff5338bb-e8e4-4b73-f87b-3ef683ce0059"
   },
   "outputs": [
    {
     "data": {
      "image/png": "[encoded data removed]",
      "text/plain": [
       "<Figure size 1008x1008 with 6 Axes>"
      ]
     },
     "metadata": {
      "needs_background": "light"
     },
     "output_type": "display_data"
    }
   ],
   "source": [
    "#creating histograms\n",
    "df[num_cols].hist(figsize=(14,14))\n",
    "plt.show()"
   ]
  },
  {
   "cell_type": "markdown",
   "metadata": {
    "id": "ec26cfc8"
   },
   "source": [
    "**Observations:**\n",
    "\n",
    "- The age distribution is close to a normal distribution with the majority of clients between the ages of 30 and 50.\n",
    "\n",
    "- The household size is skewed to the right. The most frequent size of household is single member.\n",
    "\n",
    "- Number of cases skewed to the right. About 80% of clients had only one case opened, 15 % had two cases, and the rest belongs to 3 and 4 cases. \n",
    "\n",
    "- Income skewed to the right. The distribution shows that there are clients with no income. The majortiy of households have income below average.\n",
    "\n",
    "- The service distribution skewed to the right. The majority of clients received fro 1 to 20 services. The data shows that there are clients that received more than 20 services.\n",
    "\n",
    "- The duration distribution shows that majority of clients spent less then 3 months (100 days) in program. \n",
    "\n"
   ]
  },
  {
   "cell_type": "markdown",
   "metadata": {
    "id": "6e605786"
   },
   "source": [
    "### Univariate analysis for categorical variables"
   ]
  },
  {
   "cell_type": "code",
   "execution_count": 146,
   "metadata": {
    "id": "1902184e",
    "outputId": "94897560-79b9-47f1-d61f-71d290e3c7f2"
   },
   "outputs": [
    {
     "name": "stdout",
     "output_type": "stream",
     "text": [
      "No     0.674959\n",
      "Yes    0.325041\n",
      "Name: Failed, dtype: float64\n",
      "****************************************\n",
      "affordable housing    0.394693\n",
      "avoided eviction      0.373134\n",
      "net worth             0.197347\n",
      "food security         0.029851\n",
      "housing vouchers      0.004975\n",
      "Name: Outcome, dtype: float64\n",
      "****************************************\n"
     ]
    }
   ],
   "source": [
    "\n",
    "for i in cat_cols:\n",
    "    print(df[i].value_counts(normalize=True))\n",
    "    print('*'*40)"
   ]
  },
  {
   "cell_type": "markdown",
   "metadata": {
    "id": "c093aae2"
   },
   "source": [
    "**Observations:**\n",
    "\n",
    "- 32% of clients did not achieve outcome; therefore, failed to complete the program successfully.\n",
    "- The majority of clients requested assistance in obtaining housing - 39%, avoided eviction - 37 and net worth - 19%."
   ]
  },
  {
   "cell_type": "markdown",
   "metadata": {
    "id": "bdb2961d"
   },
   "source": [
    "### Bivariate and Multivariate analysis"
   ]
  },
  {
   "cell_type": "markdown",
   "metadata": {
    "id": "643dd47d"
   },
   "source": [
    "**Checking how failed rate is related with other categorical variables**"
   ]
  },
  {
   "cell_type": "code",
   "execution_count": 147,
   "metadata": {
    "id": "796c2b07",
    "outputId": "1ace5a61-5f02-4c1f-87a4-f50e1688354a",
    "scrolled": false
   },
   "outputs": [
    {
     "data": {
      "image/png": "[encoded data removed]",
      "text/plain": [
       "<Figure size 576x288 with 1 Axes>"
      ]
     },
     "metadata": {
      "needs_background": "light"
     },
     "output_type": "display_data"
    }
   ],
   "source": [
    "for i in cat_cols:\n",
    "    if i!='Failed':\n",
    "        (pd.crosstab(df[i],df['Failed'],normalize='index')*100).plot(kind='bar',figsize=(8,4),stacked=True)\n",
    "        plt.ylabel('Percentage Failed %')"
   ]
  },
  {
   "cell_type": "markdown",
   "metadata": {
    "id": "3f91face"
   },
   "source": [
    "**Observations:**\n",
    "    \n",
    "- 60% of clients failed to obtain affordable housing.\n",
    "- 20% of clients failed to avoid eviction.\n",
    "- 25% of clients failed to get housing vouchers.\n",
    "- 1% of clients failed to increase net worth."
   ]
  },
  {
   "cell_type": "markdown",
   "metadata": {
    "id": "93b053a6"
   },
   "source": [
    "**Relationship between failed to complete the program and numerical variables**"
   ]
  },
  {
   "cell_type": "code",
   "execution_count": 148,
   "metadata": {
    "id": "a6dbb256",
    "outputId": "b92ad475-2f23-43f7-ac41-e61702a4fc91"
   },
   "outputs": [
    {
     "data": {
      "text/html": [
       "<div>\n",
       "<style scoped>\n",
       "    .dataframe tbody tr th:only-of-type {\n",
       "        vertical-align: middle;\n",
       "    }\n",
       "\n",
       "    .dataframe tbody tr th {\n",
       "        vertical-align: top;\n",
       "    }\n",
       "\n",
       "    .dataframe thead th {\n",
       "        text-align: right;\n",
       "    }\n",
       "</style>\n",
       "<table border=\"1\" class=\"dataframe\">\n",
       "  <thead>\n",
       "    <tr style=\"text-align: right;\">\n",
       "      <th></th>\n",
       "      <th>Age</th>\n",
       "      <th>Household</th>\n",
       "      <th>Cases</th>\n",
       "      <th>Income</th>\n",
       "      <th>Service</th>\n",
       "      <th>Duration</th>\n",
       "    </tr>\n",
       "    <tr>\n",
       "      <th>Failed</th>\n",
       "      <th></th>\n",
       "      <th></th>\n",
       "      <th></th>\n",
       "      <th></th>\n",
       "      <th></th>\n",
       "      <th></th>\n",
       "    </tr>\n",
       "  </thead>\n",
       "  <tbody>\n",
       "    <tr>\n",
       "      <th>No</th>\n",
       "      <td>42.1</td>\n",
       "      <td>1.8</td>\n",
       "      <td>1.6</td>\n",
       "      <td>17800.3</td>\n",
       "      <td>4.7</td>\n",
       "      <td>53.2</td>\n",
       "    </tr>\n",
       "    <tr>\n",
       "      <th>Yes</th>\n",
       "      <td>44.2</td>\n",
       "      <td>1.8</td>\n",
       "      <td>1.2</td>\n",
       "      <td>18784.2</td>\n",
       "      <td>6.8</td>\n",
       "      <td>152.5</td>\n",
       "    </tr>\n",
       "  </tbody>\n",
       "</table>\n",
       "</div>"
      ],
      "text/plain": [
       "         Age  Household  Cases   Income  Service  Duration\n",
       "Failed                                                    \n",
       "No      42.1        1.8    1.6  17800.3      4.7      53.2\n",
       "Yes     44.2        1.8    1.2  18784.2      6.8     152.5"
      ]
     },
     "execution_count": 148,
     "metadata": {},
     "output_type": "execute_result"
    }
   ],
   "source": [
    "#Mean of numerical variables grouped by failed\n",
    "df.groupby(['Failed'])[num_cols].mean(). round(1)"
   ]
  },
  {
   "cell_type": "markdown",
   "metadata": {
    "id": "d286e106"
   },
   "source": [
    "**Observations:**\n",
    "- The clients who failed to complete the program are slightly older mean 44 vs 42, who completed the program, their income is higher 18785 US dollars vs 17800. They receive more services, and they also stay longer in program mean = 152 vs 53 days, who completed the program successfully. "
   ]
  },
  {
   "cell_type": "markdown",
   "metadata": {
    "id": "df253009"
   },
   "source": [
    "### The relationship between different numerical variables"
   ]
  },
  {
   "cell_type": "code",
   "execution_count": 149,
   "metadata": {
    "id": "5da1e8ed",
    "outputId": "ff2bf703-25d9-42e2-cfd2-c005e8eff08b"
   },
   "outputs": [
    {
     "data": {
      "text/plain": [
       "<matplotlib.axes._subplots.AxesSubplot at 0x206139f0>"
      ]
     },
     "execution_count": 149,
     "metadata": {},
     "output_type": "execute_result"
    },
    {
     "data": {
      "image/png": "[encoded data removed]",
      "text/plain": [
       "<Figure size 1080x576 with 2 Axes>"
      ]
     },
     "metadata": {
      "needs_background": "light"
     },
     "output_type": "display_data"
    }
   ],
   "source": [
    "#plotting the correlation between numerical variables\n",
    "plt.figure(figsize=(15,8))\n",
    "sns.heatmap(df[num_cols].corr(),annot=True, fmt='0.2f', cmap='YlGnBu')"
   ]
  },
  {
   "cell_type": "markdown",
   "metadata": {
    "id": "231d85ef"
   },
   "source": [
    "**Observations:**\n",
    "\n",
    "- From the heatmap, it can be noted that there is no strong relationship between numerical variables. There is some positive relationship noticed between duration and services. This can be explained that the longer person is staying in program, s/he is likely to receive more services."
   ]
  },
  {
   "cell_type": "markdown",
   "metadata": {
    "id": "62b1c31c"
   },
   "source": [
    "**Now we have explored our data. Let's build the model**"
   ]
  },
  {
   "cell_type": "markdown",
   "metadata": {
    "id": "c87d8b8c"
   },
   "source": [
    "## Model Building - Approach\n",
    "1. Prepare data for modeling\n",
    "2. Partition the data into train and test set.\n",
    "3. Build model on the train data.\n",
    "4. Tune the model if required.\n",
    "5. Test the data on test set."
   ]
  },
  {
   "cell_type": "markdown",
   "metadata": {
    "id": "9854fafc"
   },
   "source": [
    "###  Preparing data for modeling"
   ]
  },
  {
   "cell_type": "markdown",
   "metadata": {
    "id": "c73bfd10"
   },
   "source": [
    "**Creating dummy variables for categorical Variables**"
   ]
  },
  {
   "cell_type": "code",
   "execution_count": 150,
   "metadata": {
    "id": "10038cc3"
   },
   "outputs": [],
   "source": [
    "data=df.copy()\n",
    "\n",
    "#creating list of dummy columns\n",
    "to_get_dummies_for = ['Outcome']\n",
    "\n",
    "#creating dummy variables\n",
    "df = pd.get_dummies(data = df, columns= to_get_dummies_for)      \n",
    "\n",
    "#mapping overtime and attrition\n",
    "dict_failed = {'Yes': 1, 'No': 0}\n",
    "\n",
    "\n",
    "df['Failed'] = df.Failed.map(dict_failed)\n"
   ]
  },
  {
   "cell_type": "code",
   "execution_count": 151,
   "metadata": {},
   "outputs": [
    {
     "data": {
      "text/html": [
       "<div>\n",
       "<style scoped>\n",
       "    .dataframe tbody tr th:only-of-type {\n",
       "        vertical-align: middle;\n",
       "    }\n",
       "\n",
       "    .dataframe tbody tr th {\n",
       "        vertical-align: top;\n",
       "    }\n",
       "\n",
       "    .dataframe thead th {\n",
       "        text-align: right;\n",
       "    }\n",
       "</style>\n",
       "<table border=\"1\" class=\"dataframe\">\n",
       "  <thead>\n",
       "    <tr style=\"text-align: right;\">\n",
       "      <th></th>\n",
       "      <th>Failed</th>\n",
       "      <th>Age</th>\n",
       "      <th>Household</th>\n",
       "      <th>Cases</th>\n",
       "      <th>Income</th>\n",
       "      <th>Service</th>\n",
       "      <th>Duration</th>\n",
       "      <th>Outcome_affordable housing</th>\n",
       "      <th>Outcome_avoided eviction</th>\n",
       "      <th>Outcome_food security</th>\n",
       "      <th>Outcome_housing vouchers</th>\n",
       "      <th>Outcome_net worth</th>\n",
       "    </tr>\n",
       "  </thead>\n",
       "  <tbody>\n",
       "    <tr>\n",
       "      <th>0</th>\n",
       "      <td>0</td>\n",
       "      <td>41</td>\n",
       "      <td>4</td>\n",
       "      <td>1</td>\n",
       "      <td>21580</td>\n",
       "      <td>4</td>\n",
       "      <td>64</td>\n",
       "      <td>0</td>\n",
       "      <td>0</td>\n",
       "      <td>0</td>\n",
       "      <td>0</td>\n",
       "      <td>1</td>\n",
       "    </tr>\n",
       "    <tr>\n",
       "      <th>1</th>\n",
       "      <td>1</td>\n",
       "      <td>52</td>\n",
       "      <td>1</td>\n",
       "      <td>2</td>\n",
       "      <td>4009</td>\n",
       "      <td>11</td>\n",
       "      <td>238</td>\n",
       "      <td>0</td>\n",
       "      <td>1</td>\n",
       "      <td>0</td>\n",
       "      <td>0</td>\n",
       "      <td>0</td>\n",
       "    </tr>\n",
       "    <tr>\n",
       "      <th>2</th>\n",
       "      <td>0</td>\n",
       "      <td>34</td>\n",
       "      <td>1</td>\n",
       "      <td>2</td>\n",
       "      <td>22454</td>\n",
       "      <td>1</td>\n",
       "      <td>24</td>\n",
       "      <td>1</td>\n",
       "      <td>0</td>\n",
       "      <td>0</td>\n",
       "      <td>0</td>\n",
       "      <td>0</td>\n",
       "    </tr>\n",
       "  </tbody>\n",
       "</table>\n",
       "</div>"
      ],
      "text/plain": [
       "   Failed  Age  Household  Cases  Income  Service  Duration  \\\n",
       "0       0   41          4      1   21580        4        64   \n",
       "1       1   52          1      2    4009       11       238   \n",
       "2       0   34          1      2   22454        1        24   \n",
       "\n",
       "   Outcome_affordable housing  Outcome_avoided eviction  \\\n",
       "0                           0                         0   \n",
       "1                           0                         1   \n",
       "2                           1                         0   \n",
       "\n",
       "   Outcome_food security  Outcome_housing vouchers  Outcome_net worth  \n",
       "0                      0                         0                  1  \n",
       "1                      0                         0                  0  \n",
       "2                      0                         0                  0  "
      ]
     },
     "execution_count": 151,
     "metadata": {},
     "output_type": "execute_result"
    }
   ],
   "source": [
    "df.head(3)"
   ]
  },
  {
   "cell_type": "markdown",
   "metadata": {
    "id": "8cf5d26f"
   },
   "source": [
    "**Separating the independent variables (X) and the dependent variable (Y)**"
   ]
  },
  {
   "cell_type": "code",
   "execution_count": 152,
   "metadata": {
    "id": "76d1cc91"
   },
   "outputs": [],
   "source": [
    "#Separating target variable and other variables\n",
    "Y= df.Failed\n",
    "X= df.drop(columns = ['Failed'])"
   ]
  },
  {
   "cell_type": "markdown",
   "metadata": {
    "id": "c389ff82"
   },
   "source": [
    "### Scaling the data"
   ]
  },
  {
   "cell_type": "code",
   "execution_count": 153,
   "metadata": {
    "id": "0e99f9cb"
   },
   "outputs": [],
   "source": [
    "#Scaling the data\n",
    "sc=StandardScaler()\n",
    "X_scaled=sc.fit_transform(X)\n",
    "X_scaled=pd.DataFrame(X_scaled, columns=X.columns)"
   ]
  },
  {
   "cell_type": "code",
   "execution_count": 154,
   "metadata": {
    "id": "96bfa6a3"
   },
   "outputs": [],
   "source": [
    "#splitting the data\n",
    "x_train,x_test,y_train,y_test=train_test_split(X_scaled,Y,test_size=0.3,random_state=1,stratify=Y)"
   ]
  },
  {
   "cell_type": "markdown",
   "metadata": {
    "id": "77645a49"
   },
   "source": [
    "### Model evaluation criterion\n",
    "\n",
    "#### The model can make two types of wrong predictions:\n",
    "1. Predicting a client will complete the program successfully when the clients does not\n",
    "2. Predicting a client will fail to complete the program and s/he actually completes the program successfully\n",
    "\n",
    "#### Which case is more important? \n",
    "* Predicting that client will not fail but s/he fails to complete the program i.e. losing program money (money spent no result achieved) considered a major miss.\n",
    "\n",
    "#### How to reduce this loss i.e the need to reduce False Negatives?\n",
    "* Program staff want to maximize the Recall, the greater the Recall, the higher the chances of minimizing false negatives. The program staff can identify the problematic clients, and propose back up plan to assist them to complete the program. "
   ]
  },
  {
   "cell_type": "code",
   "execution_count": 155,
   "metadata": {
    "id": "7b305008"
   },
   "outputs": [],
   "source": [
    "#creating metric function \n",
    "def metrics_score(actual, predicted):\n",
    "    print(classification_report(actual, predicted))\n",
    "    cm = confusion_matrix(actual, predicted)\n",
    "    plt.figure(figsize=(8,5))\n",
    "    sns.heatmap(cm, annot=True,  fmt='.2f', xticklabels=['Not Failed', 'Failed'], \n",
    "                yticklabels=['Not Failed', 'Failed'])\n",
    "    plt.ylabel('Actual')\n",
    "    plt.xlabel('Predicted')\n",
    "    plt.show()"
   ]
  },
  {
   "cell_type": "markdown",
   "metadata": {
    "id": "38857a84"
   },
   "source": [
    "#### Building the model\n",
    "\n",
    "2 different models:\n",
    "- **Logistic Regression**\n",
    "- **Support Vector Machine(SVM)**"
   ]
  },
  {
   "cell_type": "markdown",
   "metadata": {
    "id": "1de66d84"
   },
   "source": [
    "### Logistic Regression Model "
   ]
  },
  {
   "cell_type": "code",
   "execution_count": 156,
   "metadata": {
    "id": "1c3fec96",
    "outputId": "9bca79ca-b15a-4868-e3b2-dbf62e54fd14"
   },
   "outputs": [
    {
     "data": {
      "text/plain": [
       "LogisticRegression()"
      ]
     },
     "execution_count": 156,
     "metadata": {},
     "output_type": "execute_result"
    }
   ],
   "source": [
    "#fitting logistic regression model\n",
    "lg=LogisticRegression()\n",
    "lg.fit(x_train,y_train)"
   ]
  },
  {
   "cell_type": "markdown",
   "metadata": {
    "id": "f45ec38a"
   },
   "source": [
    "**Checking model performance**"
   ]
  },
  {
   "cell_type": "markdown",
   "metadata": {},
   "source": [
    "- The reported average includes the macro average which averages the unweighted mean per label, and the weighted average i.e. averaging the support-weighted mean per label.\n",
    "- In classification, the class of interest is considered the positive class. Here, the class of interest is 1 i.e. identifying the client to fail the program.\n",
    "\n",
    "**Reading the confusion matrix (clockwise):**\n",
    "\n",
    "* True Negative (Actual=0, Predicted=0): Model predicts that a client would not fail and s/he does not fail \n",
    "\n",
    "* False Positive (Actual=0, Predicted=1): Model predicts a client would fail but the s/he does not fail; hence completes the program successfully.\n",
    "\n",
    "* False Negative (Actual=1, Predicted=0): Model predicts that a client would not fail but s/he failes to complete the program\n",
    "\n",
    "* True Positive (Actual=1, Predicted=1): Model predicts that client fails and s/he failes to complete the program"
   ]
  },
  {
   "cell_type": "code",
   "execution_count": 157,
   "metadata": {
    "id": "9a3062aa",
    "outputId": "a41ccb8d-7640-4ab5-d4da-5fd22c1edce5"
   },
   "outputs": [
    {
     "name": "stdout",
     "output_type": "stream",
     "text": [
      "              precision    recall  f1-score   support\n",
      "\n",
      "           0       0.87      0.88      0.87       285\n",
      "           1       0.74      0.72      0.73       137\n",
      "\n",
      "    accuracy                           0.83       422\n",
      "   macro avg       0.81      0.80      0.80       422\n",
      "weighted avg       0.83      0.83      0.83       422\n",
      "\n"
     ]
    },
    {
     "data": {
      "image/png": "[encoded data removed]",
      "text/plain": [
       "<Figure size 576x360 with 2 Axes>"
      ]
     },
     "metadata": {
      "needs_background": "light"
     },
     "output_type": "display_data"
    }
   ],
   "source": [
    "#checking the performance on the training data\n",
    "y_pred_train = lg.predict(x_train)\n",
    "metrics_score(y_train, y_pred_train)"
   ]
  },
  {
   "cell_type": "code",
   "execution_count": 158,
   "metadata": {
    "id": "218089fd",
    "outputId": "62a94942-8b29-4459-c315-39e22b6e201d"
   },
   "outputs": [
    {
     "name": "stdout",
     "output_type": "stream",
     "text": [
      "              precision    recall  f1-score   support\n",
      "\n",
      "           0       0.86      0.87      0.87       122\n",
      "           1       0.72      0.71      0.72        59\n",
      "\n",
      "    accuracy                           0.82       181\n",
      "   macro avg       0.79      0.79      0.79       181\n",
      "weighted avg       0.82      0.82      0.82       181\n",
      "\n"
     ]
    },
    {
     "data": {
      "image/png": "[encoded data removed]",
      "text/plain": [
       "<Figure size 576x360 with 2 Axes>"
      ]
     },
     "metadata": {
      "needs_background": "light"
     },
     "output_type": "display_data"
    }
   ],
   "source": [
    "#checking the performance on the test dataset\n",
    "y_pred_test = lg.predict(x_test)\n",
    "metrics_score(y_test, y_pred_test)"
   ]
  },
  {
   "cell_type": "markdown",
   "metadata": {
    "id": "382c8e52"
   },
   "source": [
    "**Observations:**\n",
    "- The model accuracy is ~ 83% on train and test dataset.\n",
    "- The recall for this model is 73% for class 1 on train and 72% on test.\n",
    "- The model tells that 27% of clients, who have high chance of failure, will not be idenified. So, this will not actually solve our problem.\n"
   ]
  },
  {
   "cell_type": "markdown",
   "metadata": {
    "id": "dc744c23"
   },
   "source": [
    "**Find the coefficients and variables that are leading to failure**"
   ]
  },
  {
   "cell_type": "code",
   "execution_count": 159,
   "metadata": {
    "id": "82beae47",
    "outputId": "ced49131-018c-47b9-b523-a1ec728ea249"
   },
   "outputs": [
    {
     "data": {
      "text/html": [
       "<div>\n",
       "<style scoped>\n",
       "    .dataframe tbody tr th:only-of-type {\n",
       "        vertical-align: middle;\n",
       "    }\n",
       "\n",
       "    .dataframe tbody tr th {\n",
       "        vertical-align: top;\n",
       "    }\n",
       "\n",
       "    .dataframe thead th {\n",
       "        text-align: right;\n",
       "    }\n",
       "</style>\n",
       "<table border=\"1\" class=\"dataframe\">\n",
       "  <thead>\n",
       "    <tr style=\"text-align: right;\">\n",
       "      <th></th>\n",
       "      <th>0</th>\n",
       "    </tr>\n",
       "  </thead>\n",
       "  <tbody>\n",
       "    <tr>\n",
       "      <th>Duration</th>\n",
       "      <td>1.250512</td>\n",
       "    </tr>\n",
       "    <tr>\n",
       "      <th>Outcome_affordable housing</th>\n",
       "      <td>0.977742</td>\n",
       "    </tr>\n",
       "    <tr>\n",
       "      <th>Household</th>\n",
       "      <td>0.089169</td>\n",
       "    </tr>\n",
       "    <tr>\n",
       "      <th>Income</th>\n",
       "      <td>0.058019</td>\n",
       "    </tr>\n",
       "    <tr>\n",
       "      <th>Age</th>\n",
       "      <td>0.001497</td>\n",
       "    </tr>\n",
       "    <tr>\n",
       "      <th>Outcome_avoided eviction</th>\n",
       "      <td>-0.079967</td>\n",
       "    </tr>\n",
       "    <tr>\n",
       "      <th>Outcome_housing vouchers</th>\n",
       "      <td>-0.226492</td>\n",
       "    </tr>\n",
       "    <tr>\n",
       "      <th>Outcome_food security</th>\n",
       "      <td>-0.453453</td>\n",
       "    </tr>\n",
       "    <tr>\n",
       "      <th>Service</th>\n",
       "      <td>-0.498343</td>\n",
       "    </tr>\n",
       "    <tr>\n",
       "      <th>Cases</th>\n",
       "      <td>-0.818546</td>\n",
       "    </tr>\n",
       "    <tr>\n",
       "      <th>Outcome_net worth</th>\n",
       "      <td>-0.869677</td>\n",
       "    </tr>\n",
       "  </tbody>\n",
       "</table>\n",
       "</div>"
      ],
      "text/plain": [
       "                                   0\n",
       "Duration                    1.250512\n",
       "Outcome_affordable housing  0.977742\n",
       "Household                   0.089169\n",
       "Income                      0.058019\n",
       "Age                         0.001497\n",
       "Outcome_avoided eviction   -0.079967\n",
       "Outcome_housing vouchers   -0.226492\n",
       "Outcome_food security      -0.453453\n",
       "Service                    -0.498343\n",
       "Cases                      -0.818546\n",
       "Outcome_net worth          -0.869677"
      ]
     },
     "execution_count": 159,
     "metadata": {},
     "output_type": "execute_result"
    }
   ],
   "source": [
    "#printing the coefficients of logistic regression\n",
    "cols=X.columns\n",
    "\n",
    "coef_lg=lg.coef_\n",
    "\n",
    "pd.DataFrame(coef_lg,columns=cols).T.sort_values(by=0,ascending=False)"
   ]
  },
  {
   "cell_type": "markdown",
   "metadata": {
    "id": "163545b6"
   },
   "source": [
    "**Observations:**\n",
    "\n",
    "\n",
    "**Features which positively affect on the program failure are:**\n",
    "- Duration \t\n",
    "- Outcome affordable housing\t\n",
    "- Household\t\n",
    "- Income\t\n",
    "- Age\t\n",
    "\n",
    "**Features which negatively affect on the program failure are:**\n",
    "- Avoided eviction\n",
    "- Housing vouchers\n",
    "- Food security\n",
    "- Service\n",
    "- Cases\n",
    "- Net worth\n",
    "\n",
    "\n",
    "- Based on the Logistic Regression model, duration variable is important factor on successful program completition. To understand how actually it impacts the program, it is necessary to visualize it using regplot. From the below, graphs it looks like that the chance of failure increases if a client stays longer than 150 days in program.\n",
    "- The second variable is obtaining housing had impact on program successful completion. From the summary statistics,  it is known that about 39% out of 603 enrolled in housing outcome. However, out of total number enrolled in housing outcome, only 40% were able to acheive the positive result. It is also likely that clients that are enrolled in housing outcome; they have to stay longer in program. This outcome requires more time and effort to complete. \n",
    "- The other variables - household, income and age have impact on program failure. \n",
    "- Other outcomes as avoided evction, housing vouchers and food security have negative coefficients because clients working on these outcomes have higher rates of success. Not so many cases of failure in these fields.\n"
   ]
  },
  {
   "cell_type": "code",
   "execution_count": 160,
   "metadata": {},
   "outputs": [
    {
     "data": {
      "image/png": "[encoded data removed]",
      "text/plain": [
       "<Figure size 432x288 with 1 Axes>"
      ]
     },
     "metadata": {
      "needs_background": "light"
     },
     "output_type": "display_data"
    }
   ],
   "source": [
    "import seaborn as sns\n",
    "sns.regplot(x='Duration', y='Failed', data=df, logistic=True, color=\"red\")\n",
    "plt.show()"
   ]
  },
  {
   "cell_type": "markdown",
   "metadata": {
    "id": "4291d05e"
   },
   "source": [
    "Converting the log of odds into real odds by taking its exponential."
   ]
  },
  {
   "cell_type": "code",
   "execution_count": 161,
   "metadata": {
    "id": "9d48313b",
    "outputId": "33a2e695-0f22-400e-f8b8-1827c63821da"
   },
   "outputs": [
    {
     "data": {
      "text/html": [
       "<div>\n",
       "<style scoped>\n",
       "    .dataframe tbody tr th:only-of-type {\n",
       "        vertical-align: middle;\n",
       "    }\n",
       "\n",
       "    .dataframe tbody tr th {\n",
       "        vertical-align: top;\n",
       "    }\n",
       "\n",
       "    .dataframe thead th {\n",
       "        text-align: right;\n",
       "    }\n",
       "</style>\n",
       "<table border=\"1\" class=\"dataframe\">\n",
       "  <thead>\n",
       "    <tr style=\"text-align: right;\">\n",
       "      <th></th>\n",
       "      <th>odds</th>\n",
       "    </tr>\n",
       "  </thead>\n",
       "  <tbody>\n",
       "    <tr>\n",
       "      <th>Duration</th>\n",
       "      <td>3.492132</td>\n",
       "    </tr>\n",
       "    <tr>\n",
       "      <th>Outcome_affordable housing</th>\n",
       "      <td>2.658446</td>\n",
       "    </tr>\n",
       "    <tr>\n",
       "      <th>Household</th>\n",
       "      <td>1.093266</td>\n",
       "    </tr>\n",
       "    <tr>\n",
       "      <th>Income</th>\n",
       "      <td>1.059735</td>\n",
       "    </tr>\n",
       "    <tr>\n",
       "      <th>Age</th>\n",
       "      <td>1.001498</td>\n",
       "    </tr>\n",
       "    <tr>\n",
       "      <th>Outcome_avoided eviction</th>\n",
       "      <td>0.923147</td>\n",
       "    </tr>\n",
       "    <tr>\n",
       "      <th>Outcome_housing vouchers</th>\n",
       "      <td>0.797325</td>\n",
       "    </tr>\n",
       "    <tr>\n",
       "      <th>Outcome_food security</th>\n",
       "      <td>0.635430</td>\n",
       "    </tr>\n",
       "    <tr>\n",
       "      <th>Service</th>\n",
       "      <td>0.607537</td>\n",
       "    </tr>\n",
       "    <tr>\n",
       "      <th>Cases</th>\n",
       "      <td>0.441072</td>\n",
       "    </tr>\n",
       "    <tr>\n",
       "      <th>Outcome_net worth</th>\n",
       "      <td>0.419087</td>\n",
       "    </tr>\n",
       "  </tbody>\n",
       "</table>\n",
       "</div>"
      ],
      "text/plain": [
       "                                odds\n",
       "Duration                    3.492132\n",
       "Outcome_affordable housing  2.658446\n",
       "Household                   1.093266\n",
       "Income                      1.059735\n",
       "Age                         1.001498\n",
       "Outcome_avoided eviction    0.923147\n",
       "Outcome_housing vouchers    0.797325\n",
       "Outcome_food security       0.635430\n",
       "Service                     0.607537\n",
       "Cases                       0.441072\n",
       "Outcome_net worth           0.419087"
      ]
     },
     "execution_count": 161,
     "metadata": {},
     "output_type": "execute_result"
    }
   ],
   "source": [
    "odds = np.exp(lg.coef_[0]) #finding the odds\n",
    "\n",
    "# adding the odds to a dataframe and sorting the values\n",
    "pd.DataFrame(odds, x_train.columns, columns=['odds']).sort_values(by='odds', ascending=False) "
   ]
  },
  {
   "cell_type": "markdown",
   "metadata": {
    "id": "8f068e40"
   },
   "source": [
    "**Observations**\n",
    "- The odds of clients being in program more than 150 days increases the failure by 3.4 times than those who don't cross that timeline.\n",
    "- The odds of a client enrolled in obtaining safe housing to fail are 2.6 times higher the odd of other clients enrolled into different outcomes.\n",
    "- To interpret the odds of household, income and age would not very helpful at the moment.\n",
    " "
   ]
  },
  {
   "cell_type": "markdown",
   "metadata": {
    "id": "991566fe"
   },
   "source": [
    "**Precision-Recall Curve for logistic regression**\n",
    "\n",
    "**Precision-Recall curves summarize the trade-off between the true positive rate and the positive predictive value for a predictive model using different probability thresholds.**"
   ]
  },
  {
   "cell_type": "code",
   "execution_count": 162,
   "metadata": {
    "id": "9ee22ec1",
    "outputId": "b8f98181-3e96-4fc1-d0e5-aab4f68c1140"
   },
   "outputs": [
    {
     "data": {
      "image/png": "[encoded data removed]",
      "text/plain": [
       "<Figure size 720x504 with 1 Axes>"
      ]
     },
     "metadata": {
      "needs_background": "light"
     },
     "output_type": "display_data"
    }
   ],
   "source": [
    "y_scores_lg=lg.predict_proba(x_train) #predict_proba gives the probability of each observation belonging to each class\n",
    "\n",
    "precisions_lg, recalls_lg, thresholds_lg = precision_recall_curve(y_train, y_scores_lg[:,1])\n",
    "\n",
    "#Plot values of precisions, recalls, and thresholds\n",
    "plt.figure(figsize=(10,7))\n",
    "plt.plot(thresholds_lg, precisions_lg[:-1], 'b--', label='precision')\n",
    "plt.plot(thresholds_lg, recalls_lg[:-1], 'g--', label = 'recall')\n",
    "plt.xlabel('Threshold')\n",
    "plt.legend(loc='upper left')\n",
    "plt.ylim([0,1])\n",
    "plt.show()"
   ]
  },
  {
   "cell_type": "markdown",
   "metadata": {
    "id": "da12cf85"
   },
   "source": [
    "**Observation:**\n",
    "- Precision and recall are balanced for a threshold of about ~**0.50**.\n",
    "\n",
    "**Finding out the performance of the model at this threshold**"
   ]
  },
  {
   "cell_type": "code",
   "execution_count": 163,
   "metadata": {
    "id": "5611de61",
    "outputId": "fb449d75-16a7-4319-9a6a-f5f0b042f94b"
   },
   "outputs": [
    {
     "name": "stdout",
     "output_type": "stream",
     "text": [
      "              precision    recall  f1-score   support\n",
      "\n",
      "           0       0.87      0.88      0.87       285\n",
      "           1       0.74      0.72      0.73       137\n",
      "\n",
      "    accuracy                           0.83       422\n",
      "   macro avg       0.81      0.80      0.80       422\n",
      "weighted avg       0.83      0.83      0.83       422\n",
      "\n"
     ]
    },
    {
     "data": {
      "image/png": "[encoded data removed]",
      "text/plain": [
       "<Figure size 576x360 with 2 Axes>"
      ]
     },
     "metadata": {
      "needs_background": "light"
     },
     "output_type": "display_data"
    }
   ],
   "source": [
    "optimal_threshold1=.5\n",
    "y_pred_train = lg.predict_proba(x_train)\n",
    "metrics_score(y_train, y_pred_train[:,1]>optimal_threshold1)"
   ]
  },
  {
   "cell_type": "code",
   "execution_count": 164,
   "metadata": {
    "id": "914fc850",
    "outputId": "8ff54ff5-1dde-430b-c342-a415c20ca9c4"
   },
   "outputs": [
    {
     "name": "stdout",
     "output_type": "stream",
     "text": [
      "              precision    recall  f1-score   support\n",
      "\n",
      "           0       0.86      0.87      0.87       122\n",
      "           1       0.72      0.71      0.72        59\n",
      "\n",
      "    accuracy                           0.82       181\n",
      "   macro avg       0.79      0.79      0.79       181\n",
      "weighted avg       0.82      0.82      0.82       181\n",
      "\n"
     ]
    },
    {
     "data": {
      "image/png": "[encoded data removed]",
      "text/plain": [
       "<Figure size 576x360 with 2 Axes>"
      ]
     },
     "metadata": {
      "needs_background": "light"
     },
     "output_type": "display_data"
    }
   ],
   "source": [
    "optimal_threshold1=.5\n",
    "y_pred_test = lg.predict_proba(x_test)\n",
    "metrics_score(y_test, y_pred_test[:,1]>optimal_threshold1)"
   ]
  },
  {
   "cell_type": "markdown",
   "metadata": {
    "id": "c53367ce"
   },
   "source": [
    "**Observation:**\n",
    "- The model gives almost the same results received from the first model."
   ]
  },
  {
   "cell_type": "code",
   "execution_count": 165,
   "metadata": {},
   "outputs": [],
   "source": [
    "#fitting SVM\n",
    "svm = SVC(kernel = 'linear') #linear kernal or linear decision boundary\n",
    "model = svm.fit(X = x_train, y = y_train)"
   ]
  },
  {
   "cell_type": "code",
   "execution_count": 166,
   "metadata": {},
   "outputs": [
    {
     "name": "stdout",
     "output_type": "stream",
     "text": [
      "              precision    recall  f1-score   support\n",
      "\n",
      "           0       0.90      0.86      0.88       285\n",
      "           1       0.73      0.80      0.77       137\n",
      "\n",
      "    accuracy                           0.84       422\n",
      "   macro avg       0.82      0.83      0.82       422\n",
      "weighted avg       0.85      0.84      0.84       422\n",
      "\n"
     ]
    },
    {
     "data": {
      "image/png": "[encoded data removed]",
      "text/plain": [
       "<Figure size 576x360 with 2 Axes>"
      ]
     },
     "metadata": {
      "needs_background": "light"
     },
     "output_type": "display_data"
    }
   ],
   "source": [
    "y_pred_train_svm = model.predict(x_train)\n",
    "metrics_score(y_train, y_pred_train_svm)"
   ]
  },
  {
   "cell_type": "code",
   "execution_count": 167,
   "metadata": {},
   "outputs": [
    {
     "name": "stdout",
     "output_type": "stream",
     "text": [
      "              precision    recall  f1-score   support\n",
      "\n",
      "           0       0.89      0.84      0.87       122\n",
      "           1       0.71      0.78      0.74        59\n",
      "\n",
      "    accuracy                           0.82       181\n",
      "   macro avg       0.80      0.81      0.80       181\n",
      "weighted avg       0.83      0.82      0.83       181\n",
      "\n"
     ]
    },
    {
     "data": {
      "image/png": "[encoded data removed]",
      "text/plain": [
       "<Figure size 576x360 with 2 Axes>"
      ]
     },
     "metadata": {
      "needs_background": "light"
     },
     "output_type": "display_data"
    }
   ],
   "source": [
    "# Checking performance on the test data\n",
    "y_pred_test_svm = model.predict(x_test)\n",
    "metrics_score(y_test, y_pred_test_svm)"
   ]
  },
  {
   "cell_type": "markdown",
   "metadata": {},
   "source": [
    "* SVM model with rbf linear is not overfitting as the accuracy is around 84% for both train and test dataset\n",
    "* Recall for the model only around 80% which implies the model has improved, and have better chances to identify the problematic clients. \n",
    "* The precision is ~ 90% and the model will help not five false positive and will save the cost and energy of the program staff."
   ]
  },
  {
   "cell_type": "code",
   "execution_count": 168,
   "metadata": {},
   "outputs": [
    {
     "data": {
      "image/png": "[encoded data removed]",
      "text/plain": [
       "<Figure size 720x504 with 1 Axes>"
      ]
     },
     "metadata": {
      "needs_background": "light"
     },
     "output_type": "display_data"
    }
   ],
   "source": [
    "svm_thre=SVC(probability=True)\n",
    "svm_thre.fit(x_train,y_train)\n",
    "y_scores_svm=svm_thre.predict_proba(x_train) #predict_proba gives the probability of each observation belonging to each class\n",
    "\n",
    "\n",
    "precisions_svm, recalls_svm, thresholds_svm = precision_recall_curve(y_train, y_scores_svm[:,1])\n",
    "\n",
    "#Plot values of precisions, recalls, and thresholds\n",
    "plt.figure(figsize=(10,7))\n",
    "plt.plot(thresholds_svm, precisions_svm[:-1], 'b--', label='precision')\n",
    "plt.plot(thresholds_svm, recalls_svm[:-1], 'g--', label = 'recall')\n",
    "plt.xlabel('Threshold')\n",
    "plt.legend(loc='upper left')\n",
    "plt.ylim([0,1])\n",
    "plt.show()"
   ]
  },
  {
   "cell_type": "code",
   "execution_count": 169,
   "metadata": {},
   "outputs": [
    {
     "name": "stdout",
     "output_type": "stream",
     "text": [
      "              precision    recall  f1-score   support\n",
      "\n",
      "           0       0.90      0.92      0.91       285\n",
      "           1       0.83      0.80      0.81       137\n",
      "\n",
      "    accuracy                           0.88       422\n",
      "   macro avg       0.86      0.86      0.86       422\n",
      "weighted avg       0.88      0.88      0.88       422\n",
      "\n"
     ]
    },
    {
     "data": {
      "image/png": "[encoded data removed]",
      "text/plain": [
       "<Figure size 576x360 with 2 Axes>"
      ]
     },
     "metadata": {
      "needs_background": "light"
     },
     "output_type": "display_data"
    }
   ],
   "source": [
    "optimal_threshold1=.55\n",
    "y_pred_train = svm_thre.predict_proba(x_train)\n",
    "metrics_score(y_train, y_pred_train[:,1]>optimal_threshold1)"
   ]
  },
  {
   "cell_type": "code",
   "execution_count": 170,
   "metadata": {},
   "outputs": [
    {
     "name": "stdout",
     "output_type": "stream",
     "text": [
      "              precision    recall  f1-score   support\n",
      "\n",
      "           0       0.84      0.90      0.87       122\n",
      "           1       0.76      0.64      0.70        59\n",
      "\n",
      "    accuracy                           0.82       181\n",
      "   macro avg       0.80      0.77      0.78       181\n",
      "weighted avg       0.81      0.82      0.81       181\n",
      "\n"
     ]
    },
    {
     "data": {
      "image/png": "[encoded data removed]",
      "text/plain": [
       "<Figure size 576x360 with 2 Axes>"
      ]
     },
     "metadata": {
      "needs_background": "light"
     },
     "output_type": "display_data"
    }
   ],
   "source": [
    "optimal_threshold1=.55\n",
    "y_pred_test = svm_thre.predict_proba(x_test)\n",
    "metrics_score(y_test, y_pred_test[:,1]>optimal_threshold1)"
   ]
  },
  {
   "cell_type": "markdown",
   "metadata": {},
   "source": [
    "* At the optimal threshold of .55, the model performance has not imporved. The recall decreased from .78 to .64 on the test data. \n",
    "* The SMV model with rbf linear gave us the best result on recall out of all other models. \n"
   ]
  },
  {
   "cell_type": "markdown",
   "metadata": {},
   "source": [
    "### **Building a Decision Tree Model**"
   ]
  },
  {
   "cell_type": "markdown",
   "metadata": {},
   "source": [
    "**Let's check the model performance of decision tree**"
   ]
  },
  {
   "cell_type": "code",
   "execution_count": 171,
   "metadata": {},
   "outputs": [],
   "source": [
    "#creating a list of columns for which we will create dummy variables\n",
    "to_get_dummies_for = ['Outcome']\n",
    "\n",
    "#creating dummy variables\n",
    "data = pd.get_dummies(data = data, columns= to_get_dummies_for)      \n",
    "\n",
    "#mapping overtime and attrition\n",
    "dict_failed = {'Yes': 1, 'No':0}\n",
    "data['Failed'] = data.Failed.map(dict_failed)"
   ]
  },
  {
   "cell_type": "code",
   "execution_count": 172,
   "metadata": {},
   "outputs": [
    {
     "data": {
      "text/html": [
       "<div>\n",
       "<style scoped>\n",
       "    .dataframe tbody tr th:only-of-type {\n",
       "        vertical-align: middle;\n",
       "    }\n",
       "\n",
       "    .dataframe tbody tr th {\n",
       "        vertical-align: top;\n",
       "    }\n",
       "\n",
       "    .dataframe thead th {\n",
       "        text-align: right;\n",
       "    }\n",
       "</style>\n",
       "<table border=\"1\" class=\"dataframe\">\n",
       "  <thead>\n",
       "    <tr style=\"text-align: right;\">\n",
       "      <th></th>\n",
       "      <th>Failed</th>\n",
       "      <th>Age</th>\n",
       "      <th>Household</th>\n",
       "      <th>Cases</th>\n",
       "      <th>Income</th>\n",
       "      <th>Service</th>\n",
       "      <th>Duration</th>\n",
       "      <th>Outcome_affordable housing</th>\n",
       "      <th>Outcome_avoided eviction</th>\n",
       "      <th>Outcome_food security</th>\n",
       "      <th>Outcome_housing vouchers</th>\n",
       "      <th>Outcome_net worth</th>\n",
       "    </tr>\n",
       "  </thead>\n",
       "  <tbody>\n",
       "    <tr>\n",
       "      <th>0</th>\n",
       "      <td>0</td>\n",
       "      <td>41</td>\n",
       "      <td>4</td>\n",
       "      <td>1</td>\n",
       "      <td>21580</td>\n",
       "      <td>4</td>\n",
       "      <td>64</td>\n",
       "      <td>0</td>\n",
       "      <td>0</td>\n",
       "      <td>0</td>\n",
       "      <td>0</td>\n",
       "      <td>1</td>\n",
       "    </tr>\n",
       "    <tr>\n",
       "      <th>1</th>\n",
       "      <td>1</td>\n",
       "      <td>52</td>\n",
       "      <td>1</td>\n",
       "      <td>2</td>\n",
       "      <td>4009</td>\n",
       "      <td>11</td>\n",
       "      <td>238</td>\n",
       "      <td>0</td>\n",
       "      <td>1</td>\n",
       "      <td>0</td>\n",
       "      <td>0</td>\n",
       "      <td>0</td>\n",
       "    </tr>\n",
       "    <tr>\n",
       "      <th>2</th>\n",
       "      <td>0</td>\n",
       "      <td>34</td>\n",
       "      <td>1</td>\n",
       "      <td>2</td>\n",
       "      <td>22454</td>\n",
       "      <td>1</td>\n",
       "      <td>24</td>\n",
       "      <td>1</td>\n",
       "      <td>0</td>\n",
       "      <td>0</td>\n",
       "      <td>0</td>\n",
       "      <td>0</td>\n",
       "    </tr>\n",
       "  </tbody>\n",
       "</table>\n",
       "</div>"
      ],
      "text/plain": [
       "   Failed  Age  Household  Cases  Income  Service  Duration  \\\n",
       "0       0   41          4      1   21580        4        64   \n",
       "1       1   52          1      2    4009       11       238   \n",
       "2       0   34          1      2   22454        1        24   \n",
       "\n",
       "   Outcome_affordable housing  Outcome_avoided eviction  \\\n",
       "0                           0                         0   \n",
       "1                           0                         1   \n",
       "2                           1                         0   \n",
       "\n",
       "   Outcome_food security  Outcome_housing vouchers  Outcome_net worth  \n",
       "0                      0                         0                  1  \n",
       "1                      0                         0                  0  \n",
       "2                      0                         0                  0  "
      ]
     },
     "execution_count": 172,
     "metadata": {},
     "output_type": "execute_result"
    }
   ],
   "source": [
    "data.head(3)"
   ]
  },
  {
   "cell_type": "code",
   "execution_count": 173,
   "metadata": {},
   "outputs": [],
   "source": [
    "#Separating the target variable and other variables\n",
    "Y= data.Failed\n",
    "X= data.drop(['Failed'],axis=1)"
   ]
  },
  {
   "cell_type": "code",
   "execution_count": 174,
   "metadata": {},
   "outputs": [],
   "source": [
    "#Splitting the data\n",
    "x_train,x_test,y_train,y_test=train_test_split(X,Y,test_size=0.3,random_state=1,stratify=Y)"
   ]
  },
  {
   "cell_type": "code",
   "execution_count": 175,
   "metadata": {},
   "outputs": [],
   "source": [
    "#building decision tree\n",
    "dt = DecisionTreeClassifier(class_weight={0:0.33,1:0.67}, random_state=1)"
   ]
  },
  {
   "cell_type": "code",
   "execution_count": 176,
   "metadata": {},
   "outputs": [
    {
     "data": {
      "text/plain": [
       "DecisionTreeClassifier(class_weight={0: 0.33, 1: 0.67}, random_state=1)"
      ]
     },
     "execution_count": 176,
     "metadata": {},
     "output_type": "execute_result"
    }
   ],
   "source": [
    "#fitting decision tree\n",
    "dt.fit(x_train, y_train)"
   ]
  },
  {
   "cell_type": "code",
   "execution_count": 177,
   "metadata": {},
   "outputs": [
    {
     "name": "stdout",
     "output_type": "stream",
     "text": [
      "              precision    recall  f1-score   support\n",
      "\n",
      "           0       1.00      1.00      1.00       285\n",
      "           1       1.00      1.00      1.00       137\n",
      "\n",
      "    accuracy                           1.00       422\n",
      "   macro avg       1.00      1.00      1.00       422\n",
      "weighted avg       1.00      1.00      1.00       422\n",
      "\n"
     ]
    },
    {
     "data": {
      "image/png": "[encoded data removed]",
      "text/plain": [
       "<Figure size 576x360 with 2 Axes>"
      ]
     },
     "metadata": {
      "needs_background": "light"
     },
     "output_type": "display_data"
    }
   ],
   "source": [
    "#checking performance on train dataset\n",
    "y_train_pred_dt=dt.predict(x_train)\n",
    "metrics_score(y_train,y_train_pred_dt)"
   ]
  },
  {
   "cell_type": "markdown",
   "metadata": {},
   "source": [
    "**Observations:**\n",
    "- The Decision tree is giving a **100% result on the training dataset.**"
   ]
  },
  {
   "cell_type": "code",
   "execution_count": 178,
   "metadata": {},
   "outputs": [
    {
     "name": "stdout",
     "output_type": "stream",
     "text": [
      "              precision    recall  f1-score   support\n",
      "\n",
      "           0       0.87      0.91      0.89       122\n",
      "           1       0.80      0.73      0.76        59\n",
      "\n",
      "    accuracy                           0.85       181\n",
      "   macro avg       0.84      0.82      0.83       181\n",
      "weighted avg       0.85      0.85      0.85       181\n",
      "\n"
     ]
    },
    {
     "data": {
      "image/png": "[encoded data removed]",
      "text/plain": [
       "<Figure size 576x360 with 2 Axes>"
      ]
     },
     "metadata": {
      "needs_background": "light"
     },
     "output_type": "display_data"
    }
   ],
   "source": [
    "#checking performance on test dataset\n",
    "y_test_pred_dt=dt.predict(x_test)\n",
    "metrics_score(y_test,y_test_pred_dt)"
   ]
  },
  {
   "cell_type": "markdown",
   "metadata": {},
   "source": [
    "**Observations:**\n",
    "\n",
    "- The Decision Tree works well on the training data but **not so well on the test data** as the recall is .73 as compared to 1 for the training dataset. i.e. the Decision Tree is over-fitting on the data.\n",
    "- The precision on the test data suggests that there's a 27% chance that the model will predict that a person is going to fail even though he/she would not."
   ]
  },
  {
   "cell_type": "code",
   "execution_count": 179,
   "metadata": {},
   "outputs": [
    {
     "data": {
      "text/plain": [
       "<matplotlib.axes._subplots.AxesSubplot at 0x23d532f0>"
      ]
     },
     "execution_count": 179,
     "metadata": {},
     "output_type": "execute_result"
    },
    {
     "data": {
      "image/png": "[encoded data removed]",
      "text/plain": [
       "<Figure size 936x936 with 1 Axes>"
      ]
     },
     "metadata": {
      "needs_background": "light"
     },
     "output_type": "display_data"
    }
   ],
   "source": [
    "#plot the feature importance\n",
    "importances = dt.feature_importances_\n",
    "columns=X.columns\n",
    "importance_df=pd.DataFrame(importances,index=columns,columns=['Importance']).sort_values(by='Importance',ascending=False)\n",
    "plt.figure(figsize=(13,13))\n",
    "sns.barplot(importance_df.Importance,importance_df.index)"
   ]
  },
  {
   "cell_type": "markdown",
   "metadata": {},
   "source": [
    "**Observations:**\n",
    "- According to the Decision Tree, **affordable housing outcome** is the most important feature, followed by duration, age, income and service. "
   ]
  },
  {
   "cell_type": "markdown",
   "metadata": {},
   "source": [
    "**Tuning the model**"
   ]
  },
  {
   "cell_type": "markdown",
   "metadata": {},
   "source": [
    "### **Using GridSearch for Hyperparameter Tuning on the model**\n"
   ]
  },
  {
   "cell_type": "code",
   "execution_count": 195,
   "metadata": {},
   "outputs": [
    {
     "data": {
      "text/plain": [
       "DecisionTreeClassifier(class_weight={0: 0.33, 1: 0.67}, criterion='entropy',\n",
       "                       max_depth=2, min_samples_leaf=25, random_state=1)"
      ]
     },
     "execution_count": 195,
     "metadata": {},
     "output_type": "execute_result"
    }
   ],
   "source": [
    "# Choose the type of classifier \n",
    "dtree_estimator = DecisionTreeClassifier(class_weight={0:0.33,1:0.67}, random_state=1)\n",
    "\n",
    "# Grid of parameters to choose from\n",
    "parameters = {'max_depth': np.arange(2,7), \n",
    "              'criterion': ['gini', 'entropy'],\n",
    "              'min_samples_leaf': [5, 10, 20, 25]\n",
    "             }\n",
    "\n",
    "\n",
    "# Type of scoring used to compare parameter combinations\n",
    "scorer = metrics.make_scorer(recall_score, pos_label=1)\n",
    "\n",
    "# Run the grid search\n",
    "gridCV= GridSearchCV(dtree_estimator, parameters, scoring=scorer,cv=10)\n",
    "gridCV = gridCV.fit(x_train, y_train)\n",
    "\n",
    "# Set the classifier to the best combination of parameters\n",
    "dtree_estimator = gridCV.best_estimator_\n",
    "\n",
    "# Fit the best estimator to the data \n",
    "dtree_estimator.fit(x_train, y_train)"
   ]
  },
  {
   "cell_type": "code",
   "execution_count": 196,
   "metadata": {},
   "outputs": [
    {
     "name": "stdout",
     "output_type": "stream",
     "text": [
      "              precision    recall  f1-score   support\n",
      "\n",
      "           0       0.93      0.70      0.80       285\n",
      "           1       0.59      0.89      0.71       137\n",
      "\n",
      "    accuracy                           0.76       422\n",
      "   macro avg       0.76      0.80      0.75       422\n",
      "weighted avg       0.82      0.76      0.77       422\n",
      "\n"
     ]
    },
    {
     "data": {
      "image/png": "[encoded data removed]",
      "text/plain": [
       "<Figure size 576x360 with 2 Axes>"
      ]
     },
     "metadata": {
      "needs_background": "light"
     },
     "output_type": "display_data"
    }
   ],
   "source": [
    "y_train_pred_dt=dtree_estimator.predict(x_train)\n",
    "metrics_score(y_train,y_train_pred_dt)"
   ]
  },
  {
   "cell_type": "markdown",
   "metadata": {},
   "source": [
    "**Observations:**\n",
    "- As compared to the base model, accuracy went down to 76%, however, the recall has improved and reached 89%."
   ]
  },
  {
   "cell_type": "code",
   "execution_count": 197,
   "metadata": {},
   "outputs": [
    {
     "name": "stdout",
     "output_type": "stream",
     "text": [
      "              precision    recall  f1-score   support\n",
      "\n",
      "           0       0.94      0.68      0.79       122\n",
      "           1       0.58      0.92      0.71        59\n",
      "\n",
      "    accuracy                           0.76       181\n",
      "   macro avg       0.76      0.80      0.75       181\n",
      "weighted avg       0.83      0.76      0.76       181\n",
      "\n"
     ]
    },
    {
     "data": {
      "image/png": "[encoded data removed]",
      "text/plain": [
       "<Figure size 576x360 with 2 Axes>"
      ]
     },
     "metadata": {
      "needs_background": "light"
     },
     "output_type": "display_data"
    }
   ],
   "source": [
    "y_test_pred_dt=dtree_estimator.predict(x_test)\n",
    "metrics_score(y_test,y_test_pred_dt)"
   ]
  },
  {
   "cell_type": "markdown",
   "metadata": {},
   "source": [
    "**Observations:**\n",
    "- The tuned model increased the recall to 92% on the test, however, the accuracy for both train and test went down to 76%.\n",
    "- This model is not over-fitting on the training data, and giving approx. the same result on the test and train datasets.\n",
    "\n",
    "**Let's look at the feature importance of this model and try to analyze why this is happening.**"
   ]
  },
  {
   "cell_type": "code",
   "execution_count": 198,
   "metadata": {},
   "outputs": [
    {
     "data": {
      "text/plain": [
       "<matplotlib.axes._subplots.AxesSubplot at 0xf758bb0>"
      ]
     },
     "execution_count": 198,
     "metadata": {},
     "output_type": "execute_result"
    },
    {
     "data": {
      "image/png": "[encoded data removed]",
      "text/plain": [
       "<Figure size 936x936 with 1 Axes>"
      ]
     },
     "metadata": {
      "needs_background": "light"
     },
     "output_type": "display_data"
    }
   ],
   "source": [
    "importances = dtree_estimator.feature_importances_\n",
    "columns=X.columns\n",
    "importance_df=pd.DataFrame(importances,index=columns,columns=['Importance']).sort_values(by='Importance',ascending=False)\n",
    "plt.figure(figsize=(13,13))\n",
    "sns.barplot(importance_df.Importance,importance_df.index)"
   ]
  },
  {
   "cell_type": "markdown",
   "metadata": {},
   "source": [
    "**Observations:**\n",
    "- After tuning the model the result shows that there are only 2 important features. It seems like the model is not capturing the patterns associated with other variables.\n",
    "- According to the model, **affordable housing** and **duration** are the two most important features that describe why a client fails. "
   ]
  },
  {
   "cell_type": "markdown",
   "metadata": {},
   "source": [
    "### **Building the Random Forest Classifier**\n"
   ]
  },
  {
   "cell_type": "code",
   "execution_count": 199,
   "metadata": {},
   "outputs": [
    {
     "data": {
      "text/plain": [
       "RandomForestClassifier(class_weight={0: 0.33, 1: 0.67}, random_state=1)"
      ]
     },
     "execution_count": 199,
     "metadata": {},
     "output_type": "execute_result"
    }
   ],
   "source": [
    "#Fitting the decision tree classifier on the training data \n",
    "rf_estimator = RandomForestClassifier(class_weight={0:0.33,1:0.67}, random_state=1)\n",
    "\n",
    "rf_estimator.fit(x_train,y_train)"
   ]
  },
  {
   "cell_type": "code",
   "execution_count": 200,
   "metadata": {},
   "outputs": [
    {
     "name": "stdout",
     "output_type": "stream",
     "text": [
      "              precision    recall  f1-score   support\n",
      "\n",
      "           0       1.00      1.00      1.00       285\n",
      "           1       1.00      1.00      1.00       137\n",
      "\n",
      "    accuracy                           1.00       422\n",
      "   macro avg       1.00      1.00      1.00       422\n",
      "weighted avg       1.00      1.00      1.00       422\n",
      "\n"
     ]
    },
    {
     "data": {
      "image/png": "[encoded data removed]",
      "text/plain": [
       "<Figure size 576x360 with 2 Axes>"
      ]
     },
     "metadata": {
      "needs_background": "light"
     },
     "output_type": "display_data"
    }
   ],
   "source": [
    "#Checking performance on the training data\n",
    "y_pred_train_rf = rf_estimator.predict(x_train)\n",
    "metrics_score(y_train, y_pred_train_rf)"
   ]
  },
  {
   "cell_type": "code",
   "execution_count": 201,
   "metadata": {},
   "outputs": [
    {
     "name": "stdout",
     "output_type": "stream",
     "text": [
      "              precision    recall  f1-score   support\n",
      "\n",
      "           0       0.87      0.91      0.89       122\n",
      "           1       0.80      0.73      0.76        59\n",
      "\n",
      "    accuracy                           0.85       181\n",
      "   macro avg       0.84      0.82      0.83       181\n",
      "weighted avg       0.85      0.85      0.85       181\n",
      "\n"
     ]
    },
    {
     "data": {
      "image/png": "[encoded data removed]",
      "text/plain": [
       "<Figure size 576x360 with 2 Axes>"
      ]
     },
     "metadata": {
      "needs_background": "light"
     },
     "output_type": "display_data"
    }
   ],
   "source": [
    "#Checking performance on the testing data\n",
    "y_pred_test_rf = rf_estimator.predict(x_test)\n",
    "metrics_score(y_test, y_pred_test_rf)"
   ]
  },
  {
   "cell_type": "markdown",
   "metadata": {},
   "source": [
    "**Observations:**\n",
    "- The Random Forest classifier **seems to be overfitting on the data**, since the training recall is 1 and the testing recall is only ~0.73.\n",
    "- Precision on the test data using the Random Forest is not better than of other models. "
   ]
  },
  {
   "cell_type": "markdown",
   "metadata": {},
   "source": [
    "### **Tuning the Random Forest**"
   ]
  },
  {
   "cell_type": "code",
   "execution_count": 207,
   "metadata": {},
   "outputs": [],
   "source": [
    "# Choose the type of classifier\n",
    "rf_estimator_tuned = RandomForestClassifier(class_weight={0:.33,1:.67}, random_state=1)\n",
    "\n",
    "# Grid of parameters to choose from\n",
    "## add from article\n",
    "params_rf = {  \n",
    "        \"n_estimators\": [100,250,500],\n",
    "        \"min_samples_leaf\": np.arange(1, 4,1),\n",
    "        \"max_features\": [0.7,0.9,'auto'],\n",
    "}\n",
    "\n",
    "\n",
    "# Type of scoring used to compare parameter combinations - recall score for class 1\n",
    "scorer = metrics.make_scorer(recall_score, pos_label=1)\n",
    "\n",
    "# Run the grid search\n",
    "grid_obj = GridSearchCV(rf_estimator_tuned, params_rf, scoring=scorer, cv=5)\n",
    "grid_obj = grid_obj.fit(x_train, y_train)\n",
    "\n",
    "# Set the classifier to the best combination of parameters\n",
    "rf_estimator_tuned = grid_obj.best_estimator_"
   ]
  },
  {
   "cell_type": "code",
   "execution_count": 208,
   "metadata": {},
   "outputs": [
    {
     "data": {
      "text/plain": [
       "RandomForestClassifier(class_weight={0: 0.33, 1: 0.67}, min_samples_leaf=3,\n",
       "                       n_estimators=500, random_state=1)"
      ]
     },
     "execution_count": 208,
     "metadata": {},
     "output_type": "execute_result"
    }
   ],
   "source": [
    "rf_estimator_tuned.fit(x_train, y_train)"
   ]
  },
  {
   "cell_type": "code",
   "execution_count": 209,
   "metadata": {},
   "outputs": [
    {
     "name": "stdout",
     "output_type": "stream",
     "text": [
      "              precision    recall  f1-score   support\n",
      "\n",
      "           0       0.96      0.95      0.96       285\n",
      "           1       0.89      0.93      0.91       137\n",
      "\n",
      "    accuracy                           0.94       422\n",
      "   macro avg       0.93      0.94      0.93       422\n",
      "weighted avg       0.94      0.94      0.94       422\n",
      "\n"
     ]
    },
    {
     "data": {
      "image/png": "[encoded data removed]",
      "text/plain": [
       "<Figure size 576x360 with 2 Axes>"
      ]
     },
     "metadata": {
      "needs_background": "light"
     },
     "output_type": "display_data"
    }
   ],
   "source": [
    "#Checking performance on the training data\n",
    "y_pred_train_rf_tuned = rf_estimator_tuned.predict(x_train)\n",
    "metrics_score(y_train, y_pred_train_rf_tuned)"
   ]
  },
  {
   "cell_type": "code",
   "execution_count": 210,
   "metadata": {},
   "outputs": [
    {
     "name": "stdout",
     "output_type": "stream",
     "text": [
      "              precision    recall  f1-score   support\n",
      "\n",
      "           0       0.93      0.83      0.87       122\n",
      "           1       0.71      0.86      0.78        59\n",
      "\n",
      "    accuracy                           0.84       181\n",
      "   macro avg       0.82      0.85      0.83       181\n",
      "weighted avg       0.86      0.84      0.84       181\n",
      "\n"
     ]
    },
    {
     "data": {
      "image/png": "[encoded data removed]",
      "text/plain": [
       "<Figure size 576x360 with 2 Axes>"
      ]
     },
     "metadata": {
      "needs_background": "light"
     },
     "output_type": "display_data"
    }
   ],
   "source": [
    "#Checking performance on the test data\n",
    "y_pred_test_rf_tuned = rf_estimator_tuned.predict(x_test)\n",
    "metrics_score(y_test, y_pred_test_rf_tuned)"
   ]
  },
  {
   "cell_type": "markdown",
   "metadata": {},
   "source": [
    "**Observations:**\n",
    "- The tuned model on training dataset shows recall 93%, and on the test the recall is 86%\n",
    "- The recall for the tuned model has improved from 73% to 86% recall, but decreased on precision. \n",
    "- This model is the best-performing one among all the models so far on the recall scores on the test dataset."
   ]
  },
  {
   "cell_type": "code",
   "execution_count": 212,
   "metadata": {},
   "outputs": [
    {
     "data": {
      "text/plain": [
       "<matplotlib.axes._subplots.AxesSubplot at 0xf6718f0>"
      ]
     },
     "execution_count": 212,
     "metadata": {},
     "output_type": "execute_result"
    },
    {
     "data": {
      "image/png": "[encoded data removed]",
      "text/plain": [
       "<Figure size 936x936 with 1 Axes>"
      ]
     },
     "metadata": {
      "needs_background": "light"
     },
     "output_type": "display_data"
    }
   ],
   "source": [
    "#plotting feature importance\n",
    "importances = rf_estimator_tuned.feature_importances_\n",
    "columns=X.columns\n",
    "importance_df=pd.DataFrame(importances,index=columns,columns=['Importance']).sort_values(by='Importance',ascending=False)\n",
    "plt.figure(figsize=(13,13))\n",
    "sns.barplot(importance_df.Importance,importance_df.index)"
   ]
  },
  {
   "cell_type": "markdown",
   "metadata": {},
   "source": [
    "**Observations:**\n",
    "- **The feature importance plot for the base model and tuned model are slighly different** - for the tuned model the first place is given to **duration** varibale, then **affordable housing**, **age**, and **service**.\n"
   ]
  },
  {
   "cell_type": "markdown",
   "metadata": {
    "id": "4663b361"
   },
   "source": [
    "### Conclusion and Recommendations "
   ]
  },
  {
   "cell_type": "markdown",
   "metadata": {
    "id": "a2cb3e9a"
   },
   "source": [
    "**Conclusions:**\n",
    "\n",
    "- There are two models that gave good results on recall (training and testing data) - Tuned Random Forest, recall - 86% and SVM with rbf liner - recall is 80%. \n",
    "- The program failure can be dealt by taking care of duration, affordable housing, age and services aspects. \n"
   ]
  },
  {
   "cell_type": "markdown",
   "metadata": {
    "id": "a3f2c62d"
   },
   "source": [
    "**Recommendations:**\n",
    "- The analysis discovered two important features that have impact on program failure: duration and affordable housing outcome. One way to approach this problem is to ask management staff to review cases of clients every 3 months to identify those who are not achieving their outcomes and find additional resources (human/financial) to assist them. \n",
    "- Affordable housing outcome has the highest percentage of clients that not accomplished it ~ 60%. The management staff has to review their strategy on helping with housing, and assign extra caseworkers to work on their clients cases.   \n"
   ]
  },
  {
   "cell_type": "code",
   "execution_count": null,
   "metadata": {},
   "outputs": [],
   "source": []
  }
 ],
 "metadata": {
  "colab": {
   "collapsed_sections": [
    "d6700f10",
    "91a960cf",
    "f367a777",
    "38857a84"
   ],
   "name": "Employee Attrition (1).ipynb",
   "provenance": []
  },
  "kernelspec": {
   "display_name": "Python 3",
   "language": "python",
   "name": "python3"
  },
  "language_info": {
   "codemirror_mode": {
    "name": "ipython",
    "version": 3
   },
   "file_extension": ".py",
   "mimetype": "text/x-python",
   "name": "python",
   "nbconvert_exporter": "python",
   "pygments_lexer": "ipython3",
   "version": "3.7.6"
  }
 },
 "nbformat": 4,
 "nbformat_minor": 5
}
